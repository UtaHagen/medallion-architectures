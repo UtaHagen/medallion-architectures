{
 "cells": [
  {
   "cell_type": "code",
   "execution_count": 1,
   "id": "82e61c69-315c-4d7b-b616-14b45df231e4",
   "metadata": {
    "jupyter": {
     "outputs_hidden": false,
     "source_hidden": false
    },
    "microsoft": {
     "language": "python",
     "language_group": "synapse_pyspark"
    },
    "nteract": {
     "transient": {
      "deleting": false
     }
    }
   },
   "outputs": [
    {
     "data": {
      "application/vnd.livy.statement-meta+json": {
       "execution_finish_time": "2024-11-22T09:03:14.2944623Z",
       "execution_start_time": "2024-11-22T09:03:11.6793425Z",
       "livy_statement_state": "available",
       "normalized_state": "finished",
       "parent_msg_id": "20056a17-aed3-42fc-8437-daad7439629a",
       "queued_time": "2024-11-22T09:02:56.9648817Z",
       "session_id": "1aba073e-b79f-4ca7-a370-280e2f66f6f8",
       "session_start_time": "2024-11-22T09:02:57.23116Z",
       "spark_pool": null,
       "state": "finished",
       "statement_id": 3,
       "statement_ids": [
        3
       ]
      },
      "text/plain": [
       "StatementMeta(, 1aba073e-b79f-4ca7-a370-280e2f66f6f8, 3, Finished, Available, Finished)"
      ]
     },
     "metadata": {},
     "output_type": "display_data"
    },
    {
     "data": {
      "text/plain": [
       "('spark.microsoft.delta.optimizeWrite.binSize', '1073741824')"
      ]
     },
     "execution_count": 8,
     "metadata": {},
     "output_type": "execute_result"
    }
   ],
   "source": [
    "# Set up the session for V-Order writing\n",
    "\"spark.sql.parquet.vorder.enabled\", \"true\"\n",
    "\"spark.microsoft.delta.optimizeWrite.enabled\", \"true\"\n",
    "\"spark.microsoft.delta.optimizeWrite.binSize\", \"1073741824\""
   ]
  },
  {
   "cell_type": "code",
   "execution_count": 2,
   "id": "1cf85dd8-7426-4ea3-8812-c0e97e837fad",
   "metadata": {
    "microsoft": {
     "language": "python",
     "language_group": "synapse_pyspark"
    }
   },
   "outputs": [
    {
     "data": {
      "application/vnd.livy.statement-meta+json": {
       "execution_finish_time": "2024-11-22T09:03:22.9219618Z",
       "execution_start_time": "2024-11-22T09:03:14.6450886Z",
       "livy_statement_state": "available",
       "normalized_state": "finished",
       "parent_msg_id": "50d77cac-c13a-4b02-8306-c0779e02bc30",
       "queued_time": "2024-11-22T09:02:56.9668385Z",
       "session_id": "1aba073e-b79f-4ca7-a370-280e2f66f6f8",
       "session_start_time": null,
       "spark_pool": null,
       "state": "finished",
       "statement_id": 4,
       "statement_ids": [
        4
       ]
      },
      "text/plain": [
       "StatementMeta(, 1aba073e-b79f-4ca7-a370-280e2f66f6f8, 4, Finished, Available, Finished)"
      ]
     },
     "metadata": {},
     "output_type": "display_data"
    }
   ],
   "source": [
    "from pyspark.sql.functions import *\n",
    "\n",
    "# Load data to the dataframes\n",
    "product = spark.read.table(\"silver.adventureworks.hist_product\") \\\n",
    ".where(col(\"current\") == True)\n",
    "product = product.dropDuplicates([\"ProductID\"])\n",
    "product = product[[\"ProductID\", \"Name\", \"ProductNumber\", \\\n",
    "\"Color\", \"Size\", \"Weight\", \"ProductCategoryID\", \"ProductModelID\"]]\n",
    "category = spark.read.table(\"silver.adventureworks.hist_productcategory\") \\\n",
    ".where(col(\"current\") == True)\n",
    "category = category.dropDuplicates([\"ProductCategoryID\"])\n",
    "category = category[[\"ProductCategoryID\", \"Name\"]]\n",
    "category = category.withColumnRenamed(\"Name\", \"CategoryName\")\n",
    "model = spark.read.table(\"silver.adventureworks.hist_productmodel\") \\\n",
    ".where(col(\"current\") == True)\n",
    "model = model.dropDuplicates([\"ProductModelID\"])\n",
    "model = model[[\"ProductModelID\", \"Name\", \"CatalogDescription\"]]\n",
    "model = model.withColumnRenamed(\"Name\", \"ProductModelName\")\n",
    "\n",
    "# Perform the joins\n",
    "dimension_product = product.join(category, on=\"ProductCategoryID\", how=\"left\")\n",
    "dimension_product = dimension_product.join(model, on=\"ProductModelID\", how=\"left\")\n",
    "\n",
    "# Select only the relevant columns\n",
    "dimension_product = dimension_product[[\"ProductID\", \"Name\", \"ProductNumber\", \\\n",
    "\"Color\", \"Size\", \"Weight\" , \"CategoryName\" , \"ProductModelName\"]]\n",
    "\n",
    "# Add hash code using all selected columns\n",
    "dimension_product = dimension_product.withColumn(\"ID\", \\\n",
    "sha2(concat_ws(\"||\", *dimension_product.columns), 256))"
   ]
  },
  {
   "cell_type": "code",
   "execution_count": 3,
   "id": "565e1dbf-c6cc-4a21-8656-016a84d930c6",
   "metadata": {
    "jupyter": {
     "outputs_hidden": false,
     "source_hidden": false
    },
    "microsoft": {
     "language": "python",
     "language_group": "synapse_pyspark"
    },
    "nteract": {
     "transient": {
      "deleting": false
     }
    }
   },
   "outputs": [
    {
     "data": {
      "application/vnd.livy.statement-meta+json": {
       "execution_finish_time": "2024-11-22T09:03:40.1516019Z",
       "execution_start_time": "2024-11-22T09:03:23.2587266Z",
       "livy_statement_state": "available",
       "normalized_state": "finished",
       "parent_msg_id": "06e19cda-6fa7-401f-8261-64cc8ee70b9d",
       "queued_time": "2024-11-22T09:02:56.9680964Z",
       "session_id": "1aba073e-b79f-4ca7-a370-280e2f66f6f8",
       "session_start_time": null,
       "spark_pool": null,
       "state": "finished",
       "statement_id": 5,
       "statement_ids": [
        5
       ]
      },
      "text/plain": [
       "StatementMeta(, 1aba073e-b79f-4ca7-a370-280e2f66f6f8, 5, Finished, Available, Finished)"
      ]
     },
     "metadata": {},
     "output_type": "display_data"
    }
   ],
   "source": [
    "from delta.tables import *\n",
    "\n",
    "deltaTable = DeltaTable.forPath(spark, \\\n",
    "'Tables/adventureworks/dimension_product')\n",
    "       \n",
    "deltaTable.alias('gold') \\\n",
    "  .merge(\n",
    "    dimension_product.alias('updates'),\n",
    "    'gold.ID = updates.ID'\n",
    "  ).whenMatchedUpdate(set =\n",
    "    {\n",
    "      \"current_flag\": lit(\"1\"),\n",
    "      \"current_date\": current_date(),\n",
    "      \"end_date\": \"\"\"to_date('9999-12-31', 'yyyy-MM-dd')\"\"\"\n",
    "    }\n",
    "  ).whenNotMatchedInsert(values =\n",
    "    {\n",
    "      \"ID\": \"updates.ID\",\n",
    "      \"ProductID\": \"updates.ProductID\",\n",
    "      \"ProductNumber\": \"updates.ProductNumber\",\n",
    "      \"Color\": \"updates.Color\",\n",
    "      \"Size\": \"updates.Size\",\n",
    "      \"Weight\": \"updates.Weight\",\n",
    "      \"CategoryName\": \"updates.CategoryName\",\n",
    "      \"ProductModelName\": \"updates.ProductModelName\",\n",
    "      \"current_flag\": lit(\"1\"),\n",
    "      \"current_date\": current_date(),\n",
    "      \"end_date\": \"\"\"to_date('9999-12-31', 'yyyy-MM-dd')\"\"\"\n",
    "    }\n",
    "  ).whenNotMatchedBySourceUpdate(set =\n",
    "    {\n",
    "      \"current_flag\": lit(\"0\"),\n",
    "      \"end_date\": current_date()\n",
    "    }\n",
    "  ).execute()"
   ]
  }
 ],
 "metadata": {
  "dependencies": {
   "lakehouse": {
    "default_lakehouse": "89b49d86-b090-4126-b03c-263e6f504321",
    "default_lakehouse_name": "Gold",
    "default_lakehouse_workspace_id": "30950d63-22f3-4d65-8813-310477df47b4",
    "known_lakehouses": [
     {
      "id": "89b49d86-b090-4126-b03c-263e6f504321"
     }
    ]
   }
  },
  "kernel_info": {
   "name": "synapse_pyspark"
  },
  "kernelspec": {
   "display_name": "Synapse PySpark",
   "language": "Python",
   "name": "synapse_pyspark"
  },
  "language_info": {
   "name": "python"
  },
  "microsoft": {
   "language": "python",
   "language_group": "synapse_pyspark",
   "ms_spell_check": {
    "ms_spell_check_language": "en"
   }
  },
  "notebook_environment": {},
  "nteract": {
   "version": "nteract-front-end@1.0.0"
  },
  "save_output": true,
  "spark_compute": {
   "compute_id": "/trident/default",
   "session_options": {
    "conf": {
     "spark.synapse.nbs.session.timeout": "1200000"
    },
    "enableDebugMode": false
   }
  },
  "synapse_widget": {
   "state": {},
   "version": "0.1"
  },
  "widgets": {}
 },
 "nbformat": 4,
 "nbformat_minor": 5
}
