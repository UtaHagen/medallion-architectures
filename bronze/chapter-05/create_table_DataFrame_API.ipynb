{
 "cells": [
  {
   "cell_type": "markdown",
   "metadata": {},
   "source": [
    "Create Tables Without Defining Schemas"
   ]
  },
  {
   "cell_type": "code",
   "execution_count": null,
   "metadata": {},
   "outputs": [],
   "source": [
    "from delta.tables import *\n",
    "from pyspark.sql.functions import current_date\n",
    "\n",
    "# Delete any existing data\n",
    "if (DeltaTable.isDeltaTable(spark, f\"{schemaName}.{tableName}\")):\n",
    "    spark.sql(f\"DELETE FROM {schemaName}.{tableName} \\\n",
    "    WHERE loading_date = current_date()\")\n",
    "\n",
    "# Read data\n",
    "df = spark.read.parquet(f\"Files/{schemaName}/{filePath}/{tableName}.parquet\")\n",
    "\n",
    "# Add a loading date column to the DataFrame\n",
    "df = df.withColumn(\"loading_date\", current_date())\n",
    "\n",
    "# Write the data to the Delta table with schema merge\n",
    "df.write.format(\"delta\") \\\n",
    "    .mode(\"append\") \\\n",
    "    .partitionBy(\"loading_date\") \\\n",
    "    .option(\"mergeSchema\", \"true\") \\\n",
    "    .saveAsTable(f\"{schemaName}.{tableName}\")"
   ]
  },
  {
   "cell_type": "markdown",
   "metadata": {},
   "source": [
    "Define Schemas with the DataFrame API"
   ]
  },
  {
   "cell_type": "code",
   "execution_count": null,
   "metadata": {},
   "outputs": [],
   "source": [
    "from pyspark.sql.types import *\n",
    "\n",
    "# Define the schema\n",
    "schema = StructType([\n",
    "    StructField(\"CustomerID\", IntegerType(), True),\n",
    "    StructField(\"NameStyle\", BooleanType(), True),\n",
    "    StructField(\"Title\", StringType(), True),\n",
    "    StructField(\"FirstName\", StringType(), True)\n",
    "])\n",
    "\n",
    "# Read the raw JSON data and apply the schema\n",
    "df = spark.read.schema(schema).json(\"/path/to/raw/data\")\n",
    "\n",
    "# Write the DataFrame to a Delta table\n",
    "df.write.format(\"delta\").saveAsTable(\"adventureworks.customer\")"
   ]
  },
  {
   "cell_type": "markdown",
   "metadata": {},
   "source": [
    "SQL DDL Statements"
   ]
  },
  {
   "cell_type": "code",
   "execution_count": null,
   "metadata": {},
   "outputs": [],
   "source": [
    "%sql\n",
    "CREATE SCHEMA IF NOT EXISTS adventureworks;\n",
    "\n",
    "CREATE TABLE customer (\n",
    "    CustomerID INT COMMENT 'Customer identifier',\n",
    "    NameStyle BOOLEAN COMMENT 'Style of the name',\n",
    "    Title STRING COMMENT 'Title of the customer',\n",
    "    FirstName STRING COMMENT 'First name of the customer'\n",
    ")\n",
    "USING delta"
   ]
  }
 ],
 "metadata": {
  "language_info": {
   "name": "python"
  }
 },
 "nbformat": 4,
 "nbformat_minor": 2
}
