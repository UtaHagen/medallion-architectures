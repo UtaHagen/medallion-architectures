{
 "cells": [
  {
   "cell_type": "code",
   "execution_count": null,
   "id": "6935e9e2-bfde-4841-b8c7-853902a8de0e",
   "metadata": {
    "microsoft": {
     "language": "python",
     "language_group": "synapse_pyspark"
    },
    "tags": [
     "parameters"
    ]
   },
   "outputs": [],
   "source": [
    "# Infer base parameters from the pipeline context\n",
    "schemaName = \"\"\n",
    "tableName = \"\"\n",
    "filePath = \"\""
   ]
  },
  {
   "cell_type": "code",
   "execution_count": null,
   "id": "c7202398-bd2f-40d4-841f-7823c72f2747",
   "metadata": {
    "jupyter": {
     "outputs_hidden": false,
     "source_hidden": false
    },
    "microsoft": {
     "language": "python",
     "language_group": "synapse_pyspark"
    },
    "nteract": {
     "transient": {
      "deleting": false
     }
    }
   },
   "outputs": [],
   "source": [
    "# Create schema\n",
    "spark.sql(f'CREATE SCHEMA IF NOT EXISTS {schemaName}')\n",
    "\n",
    "# Drop table\n",
    "spark.sql(f'DROP TABLE IF EXISTS {schemaName}.{tableName}')\n",
    "\n",
    "# Read data\n",
    "df = spark.read.parquet(f\"Files/{schemaName}/{filePath}/{tableName}.parquet\")\n",
    "\n",
    "# Add metadata loading_date column using current date\n",
    "from pyspark.sql.functions import current_date\n",
    "df2 = df.withColumn(\"loading_date\", current_date().cast(\"string\"))\n",
    "\n",
    "# Overwrite table\n",
    "df2.write.mode(\"Overwrite\").saveAsTable(f\"{schemaName}.{tableName}\")"
   ]
  }
 ],
 "metadata": {
  "dependencies": {
   "lakehouse": {
    "default_lakehouse": "f448dc52-de19-4a2e-8bb5-650d585f1a9e",
    "default_lakehouse_name": "Bronze",
    "default_lakehouse_workspace_id": "30950d63-22f3-4d65-8813-310477df47b4",
    "known_lakehouses": [
     {
      "id": "f448dc52-de19-4a2e-8bb5-650d585f1a9e"
     }
    ]
   }
  },
  "kernel_info": {
   "name": "synapse_pyspark"
  },
  "kernelspec": {
   "display_name": "python",
   "name": "synapse_pyspark"
  },
  "language_info": {
   "name": "python"
  },
  "microsoft": {
   "language": "python",
   "language_group": "synapse_pyspark",
   "ms_spell_check": {
    "ms_spell_check_language": "en"
   }
  },
  "notebook_environment": {},
  "nteract": {
   "version": "nteract-front-end@1.0.0"
  },
  "save_output": true,
  "spark_compute": {
   "compute_id": "/trident/default",
   "session_options": {
    "conf": {
     "spark.synapse.nbs.session.timeout": "1200000"
    },
    "enableDebugMode": false
   }
  },
  "synapse_widget": {
   "state": {},
   "version": "0.1"
  },
  "widgets": {}
 },
 "nbformat": 4,
 "nbformat_minor": 5
}
