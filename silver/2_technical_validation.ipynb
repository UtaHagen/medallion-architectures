{
 "cells": [
  {
   "cell_type": "code",
   "execution_count": null,
   "id": "1465cdf8-b6b0-4d3b-a356-48e5ef7205ce",
   "metadata": {
    "microsoft": {
     "language": "python",
     "language_group": "synapse_pyspark"
    },
    "tags": [
     "parameters"
    ]
   },
   "outputs": [],
   "source": [
    "# Infer base parameters from the pipeline context\n",
    "schemaName = \"\"\n",
    "tableName = \"\"\n",
    "metadata = \"\""
   ]
  },
  {
   "cell_type": "markdown",
   "id": "9773dc51",
   "metadata": {},
   "source": [
    "verifying only column names. \n",
    "However, you can easily expand this script to include rules for \n",
    "- primary keys, \n",
    "- nullability, \n",
    "- uniqueness, \n",
    "- field lengths, and more. \n",
    "\n",
    "If any table doesn’t meet the required standards, the pipeline will halt. \n",
    "\n",
    "This approach provides a robust gatekeeper for data entering the Silver layer."
   ]
  },
  {
   "cell_type": "code",
   "execution_count": null,
   "id": "124d3ac6-901c-466d-9780-6ad6488e6cf6",
   "metadata": {
    "jupyter": {
     "outputs_hidden": false,
     "source_hidden": false
    },
    "microsoft": {
     "language": "python",
     "language_group": "synapse_pyspark"
    },
    "nteract": {
     "transient": {
      "deleting": false
     }
    }
   },
   "outputs": [],
   "source": [
    "# Import the necessary libraries\n",
    "import json\n",
    "\n",
    "# Check if the metadata parameter is present\n",
    "try:\n",
    "    json.loads(metadata)\n",
    "except ValueError as e:\n",
    "    mssparkutils.notebook.exit(\"Metadata is not a valid JSON object.\")\n",
    "\n",
    "json_metadata = json.loads(metadata)\n",
    "\n",
    "# Load data and convert DataFrame\n",
    "df = spark.read.table(f'bronze.{schemaName}.{tableName}')\n",
    "\n",
    "# Check if columns in metadata exist in the DataFrame\n",
    "missing_columns = [item[\"ColumnName\"] for item in json_metadata \\\n",
    "if item[\"ColumnName\"] not in df.columns]\n",
    "\n",
    "# If columns are missing, stop the process\n",
    "if missing_columns:\n",
    "    mssparkutils.notebook.exit(f\"Technical validations have failed: \" \\\n",
    "    + join(missing_columns))"
   ]
  }
 ],
 "metadata": {
  "dependencies": {
   "lakehouse": {
    "default_lakehouse": "f448dc52-de19-4a2e-8bb5-650d585f1a9e",
    "default_lakehouse_name": "Bronze",
    "default_lakehouse_workspace_id": "30950d63-22f3-4d65-8813-310477df47b4",
    "known_lakehouses": [
     {
      "id": "f448dc52-de19-4a2e-8bb5-650d585f1a9e"
     }
    ]
   }
  },
  "kernel_info": {
   "name": "synapse_pyspark"
  },
  "kernelspec": {
   "display_name": "python",
   "name": "synapse_pyspark"
  },
  "language_info": {
   "name": "python"
  },
  "microsoft": {
   "language": "python",
   "language_group": "synapse_pyspark",
   "ms_spell_check": {
    "ms_spell_check_language": "en"
   }
  },
  "notebook_environment": {},
  "nteract": {
   "version": "nteract-front-end@1.0.0"
  },
  "save_output": true,
  "spark_compute": {
   "compute_id": "/trident/default",
   "session_options": {
    "conf": {
     "spark.synapse.nbs.session.timeout": "1200000"
    },
    "enableDebugMode": false
   }
  },
  "synapse_widget": {
   "state": {},
   "version": "0.1"
  },
  "widgets": {}
 },
 "nbformat": 4,
 "nbformat_minor": 5
}
